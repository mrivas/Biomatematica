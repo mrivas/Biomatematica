{
 "cells": [
  {
   "cell_type": "markdown",
   "metadata": {
    "slideshow": {
     "slide_type": "slide"
    }
   },
   "source": [
    "# Resumen clase anterior\n",
    "\n",
    "\n",
    "<img src=\"https://raw.githubusercontent.com/modcommet/Clases/master/metanogenesis.png\" width=\"35%\" align=\"left\">\n",
    "<img src=\"https://raw.githubusercontent.com/mrivas/ModelamientoDeProcesosBiotecnologicos/master/clase4_matriz.jpg\" width=\"55%\" align=\"rigth\"/>\n",
    "\n",
    "Calcular el valor de los flujos metabólicos usando numpy.\n",
    "\n",
    "1. Asumiendo que el flujo limitante es E1=10 [mmol/gDW/h] y que el organismo maximiza la producción de CH4.\n",
    "2. Igual que 1 pero maximizando la producción de F420."
   ]
  },
  {
   "cell_type": "code",
   "execution_count": null,
   "metadata": {
    "slideshow": {
     "slide_type": "slide"
    }
   },
   "outputs": [],
   "source": [
    "import numpy as np\n",
    "from scipy.optimize import linprog\n",
    "from numpy.linalg import solve\n",
    "\n",
    "# E1,E2,E3,E4,E5,R1,R2,R3\n",
    "\n",
    "A = np.array([\n",
    "[1,0,0,0,0,-1,0,0],\n",
    "[0,1,0,0,0,-1,-1,0],\n",
    "[0,0,0,0,0,1,-1,1],\n",
    "[0,0,0,-2,0,-1,1,1],\n",
    "[0,0,-1,0,0,0,1,-1],\n",
    "[0,0,0,0,-1,0,0,1]])        \n",
    "\n",
    "b = np.array([0,0,0,0,0,0])\n",
    "c = np.array([0,0,1,0,0,0,0,0])\n",
    "\n",
    "LB=[10,0,0,0,0,0,0,0]       # [0,0,0,0,0,0]\n",
    "UB=[10,1000000,1000000,1000000,1000000,1000000,1000000,1000000]     # ya sabes la idea\n",
    "\n",
    "res = linprog(-c, A_eq=A, b_eq=b, bounds=list(zip(LB,UB)))\n",
    "print('Optimal value:', res.fun, '\\nX:', res.x)\n"
   ]
  },
  {
   "cell_type": "code",
   "execution_count": null,
   "metadata": {},
   "outputs": [],
   "source": [
    "list(zip(LB,UB))"
   ]
  },
  {
   "cell_type": "markdown",
   "metadata": {
    "slideshow": {
     "slide_type": "slide"
    }
   },
   "source": [
    "# Clase 4\n",
    "\n",
    "## Contenidos\n",
    "\n",
    "* Resolver problemas de ingeniería metabólica a escala genómica\n",
    "* Introducción a cobrapy\n",
    "\n"
   ]
  },
  {
   "cell_type": "markdown",
   "metadata": {
    "slideshow": {
     "slide_type": "slide"
    }
   },
   "source": [
    "# Introducción a cobra\n",
    "\n",
    "\n",
    "Para modelar el metabolismo celular a escala genómica utilizaremos la librería ```cobra```. La documentación oficial de cobra se encuentra disponible [aquí](https://cobrapy.readthedocs.io/en/latest/index.html). Hoy veremos los comandos escenciales de cobra y construiremos nuestra propia red metábolica."
   ]
  },
  {
   "cell_type": "markdown",
   "metadata": {
    "slideshow": {
     "slide_type": "slide"
    }
   },
   "source": [
    "## Instalación\n",
    "\n",
    "\n",
    "Para instalar ```cobra``` debes abrir el terminal de anaconda (si usas Windows, busca Anaconda Prompt ) y escribir en el siguiente comando:\n",
    "\n",
    "```python\n",
    "pip install cobra --user\n",
    "```\n",
    "\n",
    "Para probar que la librería se instlado correctamente escribe el siguiente comando en la próxima celda:\n",
    "\n",
    "```python\n",
    "import cobra\n",
    "```\n",
    "\n",
    "Si no hay mensajes de error, entonces ya tienes una versión funcional de cobra."
   ]
  },
  {
   "cell_type": "markdown",
   "metadata": {
    "slideshow": {
     "slide_type": "slide"
    }
   },
   "source": [
    "## Comandos básicos\n",
    "\n",
    "\n",
    "Comezaremos cargado ```cobra``` y determinando que version está instalada (esto es útil para consultar la documentación adecuada; diferentes versiones de cobra tienen diferentes documentaciones)"
   ]
  },
  {
   "cell_type": "code",
   "execution_count": null,
   "metadata": {
    "slideshow": {
     "slide_type": "slide"
    }
   },
   "outputs": [],
   "source": [
    "import cobra\n",
    "cobra.__version__"
   ]
  },
  {
   "cell_type": "markdown",
   "metadata": {
    "slideshow": {
     "slide_type": "slide"
    }
   },
   "source": [
    "## Redes metabólicas a escala genómica\n",
    "\n",
    "\n",
    "En Inglés Genome-scale metabolic networks son redes metabólicas que incluyen todas las reacciones metabólicas presentes en el genoma del organismo bajo estudio.\n",
    "\n",
    "<img src=\"https://raw.githubusercontent.com/mrivas/ModelamientoDeProcesosBiotecnologicos/master/clase4_eColiMetabolis.png\" width=\"45%\" align=\"left\">\n",
    "\n",
    "En el caso de *Escherichia coli* la red consiste en  reacciones y metabolitos.\n",
    "\n",
    "[\"Fuente KEGG\"](https://www.genome.jp/kegg-bin/show_pathway?eco01100+M00125)"
   ]
  },
  {
   "cell_type": "code",
   "execution_count": null,
   "metadata": {
    "slideshow": {
     "slide_type": "slide"
    }
   },
   "outputs": [],
   "source": [
    "import cobra.test\n",
    "\n",
    "# \"ecoli\" and \"salmonella\" are also valid arguments\n",
    "model = cobra.test.create_test_model(\"ecoli\")"
   ]
  },
  {
   "cell_type": "markdown",
   "metadata": {
    "slideshow": {
     "slide_type": "slide"
    }
   },
   "source": [
    "Veamos cuantas reacciones y metabolitos tiene \"ecoli\""
   ]
  },
  {
   "cell_type": "code",
   "execution_count": null,
   "metadata": {
    "slideshow": {
     "slide_type": "fragment"
    }
   },
   "outputs": [],
   "source": [
    "print( \"Número de reacciones: \" , len(model.reactions) )\n",
    "print( \"Número de metabolitos: \", len(model.metabolites) )"
   ]
  },
  {
   "cell_type": "markdown",
   "metadata": {
    "slideshow": {
     "slide_type": "slide"
    }
   },
   "source": [
    "Podemos inspeccionar reacciones individualmente, por ejemplo la reacción 30:"
   ]
  },
  {
   "cell_type": "code",
   "execution_count": null,
   "metadata": {
    "slideshow": {
     "slide_type": "fragment"
    }
   },
   "outputs": [],
   "source": [
    "print( model.reactions[30].reaction )"
   ]
  },
  {
   "cell_type": "markdown",
   "metadata": {
    "slideshow": {
     "slide_type": "slide"
    }
   },
   "source": [
    "Ver las primeras 10 reacciones:"
   ]
  },
  {
   "cell_type": "code",
   "execution_count": null,
   "metadata": {
    "slideshow": {
     "slide_type": "fragment"
    }
   },
   "outputs": [],
   "source": [
    "for i in range(10):\n",
    "    print( model.reactions[i] )"
   ]
  },
  {
   "cell_type": "markdown",
   "metadata": {
    "slideshow": {
     "slide_type": "slide"
    }
   },
   "source": [
    "## Nota\n",
    "\n",
    "¿Cuál es tu interpretación de la reacción número 7?"
   ]
  },
  {
   "cell_type": "markdown",
   "metadata": {
    "slideshow": {
     "slide_type": "slide"
    }
   },
   "source": [
    "También podemos identificar una reacción por su nombre:"
   ]
  },
  {
   "cell_type": "code",
   "execution_count": null,
   "metadata": {
    "slideshow": {
     "slide_type": "fragment"
    }
   },
   "outputs": [],
   "source": [
    "pgi = model.reactions.get_by_id(\"PGI\")\n",
    "print( pgi )\n",
    "print( pgi.reaction )\n",
    "print( pgi.name )\n",
    "\n",
    "\n",
    "print(pgi.lower_bound, \"< pgi <\", pgi.upper_bound)\n",
    "\n",
    "udcpdp = model.metabolites.get_by_id(\"udcpdp_c\")\n",
    "print( udcpdp.reactions )\n",
    "print( udcpdp.formula )"
   ]
  },
  {
   "cell_type": "markdown",
   "metadata": {
    "slideshow": {
     "slide_type": "slide"
    }
   },
   "source": [
    "Podemos verificar el balance de masa de una reacción:"
   ]
  },
  {
   "cell_type": "code",
   "execution_count": null,
   "metadata": {
    "slideshow": {
     "slide_type": "fragment"
    }
   },
   "outputs": [],
   "source": [
    "print(  \"Balance de masa original\" )\n",
    "print(  pgi.reaction )\n",
    "print(  pgi.check_mass_balance() )\n",
    "\n",
    "print(  \"Veamos que pasa con el balance de masa si ahora agregamos un metabolito a la reacción\" )\n",
    "pgi.add_metabolites({model.metabolites.get_by_id(\"h_c\"): -1})\n",
    "print(  pgi.reaction )\n",
    "print(  pgi.check_mass_balance() )"
   ]
  },
  {
   "cell_type": "code",
   "execution_count": null,
   "metadata": {
    "slideshow": {
     "slide_type": "slide"
    }
   },
   "outputs": [],
   "source": [
    "pgi.add_metabolites({model.metabolites.get_by_id(\"h_c\"): 1,model.metabolites.get_by_id(\"atp_c\"): 1})\n",
    "print(  pgi.reaction )\n",
    "print(  pgi.check_mass_balance() )"
   ]
  },
  {
   "cell_type": "code",
   "execution_count": null,
   "metadata": {
    "slideshow": {
     "slide_type": "slide"
    }
   },
   "outputs": [],
   "source": [
    "pgi.add_metabolites({model.metabolites.get_by_id(\"h_c\"): 2})\n",
    "print( pgi.reaction )\n",
    "print( pgi.check_mass_balance() )"
   ]
  },
  {
   "cell_type": "code",
   "execution_count": null,
   "metadata": {
    "slideshow": {
     "slide_type": "fragment"
    }
   },
   "outputs": [],
   "source": [
    "print( pgi.check_mass_balance() )\n"
   ]
  },
  {
   "cell_type": "markdown",
   "metadata": {
    "slideshow": {
     "slide_type": "slide"
    }
   },
   "source": [
    "Tambien podemos ver cuales son las reacciones en las que un determinado metabólito está involucrado:"
   ]
  },
  {
   "cell_type": "code",
   "execution_count": null,
   "metadata": {
    "slideshow": {
     "slide_type": "fragment"
    }
   },
   "outputs": [],
   "source": [
    "for rxn in model.metabolites.get_by_id(\"atp_c\").reactions:\n",
    "    if \"BIOMASS\" in rxn.id:\n",
    "        print( rxn )"
   ]
  },
  {
   "cell_type": "markdown",
   "metadata": {
    "slideshow": {
     "slide_type": "slide"
    }
   },
   "source": [
    "# Simulación de flujos metabólicos\n",
    "\n",
    "Para simular los flujos metabólicos utilizando FBA (optimizamos la velocidad de producción de biomasa:"
   ]
  },
  {
   "cell_type": "code",
   "execution_count": null,
   "metadata": {
    "slideshow": {
     "slide_type": "slide"
    }
   },
   "outputs": [],
   "source": [
    "\n",
    "model = cobra.test.create_test_model(\"ecoli\")\n",
    "solution=model.optimize()\n",
    "print( model.summary() )\n",
    "print( model.objective )"
   ]
  },
  {
   "cell_type": "code",
   "execution_count": null,
   "metadata": {
    "slideshow": {
     "slide_type": "slide"
    }
   },
   "outputs": [],
   "source": [
    "print( model.objective )"
   ]
  },
  {
   "cell_type": "code",
   "execution_count": null,
   "metadata": {},
   "outputs": [],
   "source": [
    "model.medium"
   ]
  },
  {
   "cell_type": "code",
   "execution_count": null,
   "metadata": {
    "slideshow": {
     "slide_type": "slide"
    }
   },
   "outputs": [],
   "source": [
    "model.objective=model.reactions.get_by_id(\"EX_h_e\")"
   ]
  },
  {
   "cell_type": "code",
   "execution_count": null,
   "metadata": {
    "slideshow": {
     "slide_type": "fragment"
    }
   },
   "outputs": [],
   "source": [
    "print( model.objective )\n",
    "solution2 = model.optimize()\n",
    "model.summary()"
   ]
  },
  {
   "cell_type": "markdown",
   "metadata": {
    "slideshow": {
     "slide_type": "slide"
    }
   },
   "source": [
    "## Ejercicio\n",
    "\n",
    "Simula y los flujos metabólicos de *E. coli* cuando:\n",
    "    \n",
    "1. El flujo de consumo de glucosa (\"EX_glc__D_e\") es igual a -2 [mmol/gDW/h]\n",
    "2. El limite inferior para el flujo de consumo de oxigeno (\"EX_o2_e\") es igual a -10 [mmol/gDW/h]\n"
   ]
  },
  {
   "cell_type": "code",
   "execution_count": null,
   "metadata": {
    "slideshow": {
     "slide_type": "slide"
    }
   },
   "outputs": [],
   "source": []
  }
 ],
 "metadata": {
  "celltoolbar": "Slideshow",
  "kernelspec": {
   "display_name": "Python 3",
   "language": "python",
   "name": "python3"
  },
  "language_info": {
   "codemirror_mode": {
    "name": "ipython",
    "version": 3
   },
   "file_extension": ".py",
   "mimetype": "text/x-python",
   "name": "python",
   "nbconvert_exporter": "python",
   "pygments_lexer": "ipython3",
   "version": "3.8.10"
  },
  "rise": {
   "enable_chalkboard": true,
   "scroll": true
  }
 },
 "nbformat": 4,
 "nbformat_minor": 4
}
