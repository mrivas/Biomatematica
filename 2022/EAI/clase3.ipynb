{
 "cells": [
  {
   "cell_type": "markdown",
   "metadata": {
    "slideshow": {
     "slide_type": "slide"
    }
   },
   "source": [
    "# Clase 3\n",
    "# Algebra lineal aplicada al metabolismo celular\n",
    "\n",
    "## Contenidos\n",
    "\n",
    "1. Métodos númericos con `numpy`\n",
    "2. Breve introducción al metabolismo celular\n",
    "3. Simulación de flujos metabólicos usando Programación lineal\n"
   ]
  },
  {
   "cell_type": "markdown",
   "metadata": {
    "slideshow": {
     "slide_type": "slide"
    }
   },
   "source": [
    "# 1. Métodos numéricos con numpy"
   ]
  },
  {
   "cell_type": "markdown",
   "metadata": {
    "slideshow": {
     "slide_type": "slide"
    }
   },
   "source": [
    "\n",
    "Resolución de sistemas de ecuaciones lineales\n",
    "--------------------------------------------------------\n",
    "\n",
    "El siguiente sistema de equaciones lineales\n",
    "\n",
    "\\begin{equation}\n",
    "10a + 2b = 20 \\\\ \n",
    "3a + 7b = 19\n",
    "\\end{equation}\n",
    "\n",
    "Se puede escribir como \n",
    "\n",
    "\\begin{equation}\n",
    "\\left[ \\begin{array}{ccc} 10 & 2 \\\\ 3 & 7 \\\\ \\end{array} \\right]\\left[ \\begin{array}{c} a \\\\ b \\\\ \\end{array} \\right] = \\left[ \\begin{array}{c} 20 \\\\ 19 \\\\ \\end{array} \\right]\n",
    "\\end{equation}\n",
    "\n",
    "O de manera más compacta:\n",
    "\n",
    "\\begin{equation} \n",
    "Ax = b\n",
    "\\end{equation}"
   ]
  },
  {
   "cell_type": "markdown",
   "metadata": {
    "slideshow": {
     "slide_type": "slide"
    }
   },
   "source": [
    "Usando algebra lineal podemos encontrar $x$:\n",
    "\n",
    "\\begin{align}\n",
    "Ax &= b \\\\\n",
    "A^{-1} Ax &= A^{-1}b \\\\\n",
    "x &= A^{-1}b\n",
    "\\end{align}\n",
    "\n",
    "Para resolver este sistema en Python utilizaremos la libreria [numpy](http://www.numpy.org/)"
   ]
  },
  {
   "cell_type": "code",
   "execution_count": 11,
   "metadata": {
    "slideshow": {
     "slide_type": "slide"
    }
   },
   "outputs": [
    {
     "name": "stdout",
     "output_type": "stream",
     "text": [
      "[[1.59375]\n",
      " [2.03125]]\n",
      "[[20.]\n",
      " [19.]]\n"
     ]
    }
   ],
   "source": [
    "# Carga la libreria numpy y la renombra np (simplemente para ser más conciso)\n",
    "import numpy as np \n",
    "\n",
    "# Definiendo matrices\n",
    "A = np.matrix([[10,2], [3,7]])\n",
    "b = np.matrix([[20], [19]])\n",
    "\n",
    "# Calculando la inversa de A\n",
    "\n",
    "A_inverse = np.linalg.inv(A)\n",
    "\n",
    "# Resolviendo para X\n",
    "x = A_inverse * b # esta es la libreria de al\n",
    "print( x )\n",
    "print( A*x )"
   ]
  },
  {
   "cell_type": "markdown",
   "metadata": {
    "slideshow": {
     "slide_type": "slide"
    }
   },
   "source": [
    "Ejercicios\n",
    "-----------\n",
    "\n",
    "Resuelve los siguientes sistemas de ecuaciones, definiendo una función que tome como input $A$ y $b$, y entregue como resultado $x$.\n",
    "\n",
    "1. Sistema de 3x3\n",
    "\n",
    "    \\begin{align}\n",
    "    10a + 2b + 3c &= 20 \\\\ \n",
    "    3a + 7b + 5c &= 19 \\\\\n",
    "    3a + 7b + 7c &= 15\n",
    "    \\end{align}"
   ]
  },
  {
   "cell_type": "markdown",
   "metadata": {
    "slideshow": {
     "slide_type": "slide"
    }
   },
   "source": [
    "2. Sistema de 4x4\n",
    "\n",
    "    \\begin{align}\n",
    "    10a + 2b + 3c + 3d &= 20 \\\\ \n",
    "    3a + 7b + 5c + 1d &= 19 \\\\\n",
    "    3a + 7b + 7c + 10d &= 15 \\\\\n",
    "    4a + 9b + 8c + 9d &= 18 \n",
    "    \\end{align}"
   ]
  },
  {
   "cell_type": "markdown",
   "metadata": {
    "slideshow": {
     "slide_type": "slide"
    }
   },
   "source": [
    "# 2. Breve introducción al metabolismo celular\n",
    "\n",
    "El problema es que incluso la red de un organismo simple, como el de la bacteria *Escherichia coli*, luce así:\n",
    "\n",
    "<img src=\"https://raw.githubusercontent.com/mrivas/ModelamientoDeProcesosBiotecnologicos/master/clase4_eColiMetabolis.png\" alt=\"Drawing\" style=\"width: 800px;\"/>\n",
    "\n",
    "[\"Fuente KEGG\"](https://www.genome.jp/kegg-bin/show_pathway?eco01100+M00125)\n",
    "\n",
    "Resumen: ¡Es complicado!. **Busquemos un modelo a escala más pequeño para ganar intución.**"
   ]
  },
  {
   "cell_type": "markdown",
   "metadata": {
    "slideshow": {
     "slide_type": "slide"
    }
   },
   "source": [
    "## Metabolismo y la paradoja del origen de la vida\n",
    "\n",
    "La [NASA ha definido la vida como](https://www.ncbi.nlm.nih.gov/pmc/articles/PMC3005285/): \n",
    "\n",
    "1. Un sistema químico autosustentable,\n",
    "2. capaz de evolución Darwiniana."
   ]
  },
  {
   "cell_type": "markdown",
   "metadata": {
    "slideshow": {
     "slide_type": "slide"
    }
   },
   "source": [
    "La primera condición involucra el metabolismo, toda vez que el metabolismo es el conjunto de reacciones químicas que extraén energía del medio y producen todos los precursores (nucleotidos, lipidos, azucares, y aminoacidos) para generar biomasa.\n",
    "\n",
    "Sin embargo, la segunda condición implica que los objetos vivos tienen nucleotidos (o algún otro medio de almacenamiento de información) a su disposición, los cuales pueden reordenar. Pero los nucleotidos son moleculas complejas que dificilmente se crea de manera espontanea. Algún organimso debió ser el primero en crearlos."
   ]
  },
  {
   "cell_type": "markdown",
   "metadata": {
    "slideshow": {
     "slide_type": "slide"
    }
   },
   "source": [
    "## Teoría del metabolismo primero\n",
    "\n",
    "Una explicación a la aparición de bases nucleotidas es que no fueron creados por un organimso, sino por un conjunto de reacciones simples que son las precursoras de la vida. Esta hipótesis se denomina [metabolismo primero](http://www.preposterousuniverse.com/blog/2010/03/10/free-energy-and-the-meaning-of-life/). Según esta hipotesis, un conjunto de reacciones quimicas espontaneas pueden autoreplicarse para aumentar progresivamente la complejidad de las moleculas involucradas, las cuales a su vez pueden crear sistemas más complejos. Sólo cuando hay un nivel de complejidad mínimo se puede apelar al mecanismo de evolución Darwiniana. \n",
    "\n",
    "Uno de los candidatos a metabolismo primogenio es la transformación de CO2 y H2 en CH4."
   ]
  },
  {
   "cell_type": "markdown",
   "metadata": {
    "slideshow": {
     "slide_type": "slide"
    }
   },
   "source": [
    "<img src=\"https://raw.githubusercontent.com/mrivas/ModelamientoDeProcesosBiotecnologicos/master/clase4_problemSolvedByLife.png\" alt=\"Drawing\" style=\"width: 500px;\"/>\n",
    "\n",
    "Imagen de una [presentación de Eric Smith](http://www.santafe.edu/~desmith//PDF_talks/SFI_publec_OOL.pdf)"
   ]
  },
  {
   "cell_type": "markdown",
   "metadata": {
    "slideshow": {
     "slide_type": "slide"
    }
   },
   "source": [
    "\n",
    "<img src=\"https://raw.githubusercontent.com/modcommet/Clases/master/methaneFreeEnergy.jpg\" width=\"500\">\n",
    "\n",
    "Perfil de energía libre a través de la vía geoquímica (en purpura) a metano contrastado con la vías acetogénica bacteriana (triangulos) y metanogénica de las arqueas (cuadrados), ambas usando la via de la acetil conenzima-A.(Imagen adpatada de [Yung et al 2010](http://journalofcosmology.com/SearchForLife128.html) )"
   ]
  },
  {
   "cell_type": "code",
   "execution_count": 7,
   "metadata": {
    "slideshow": {
     "slide_type": "slide"
    }
   },
   "outputs": [
    {
     "data": {
      "image/jpeg": "[encoded data removed]",
      "text/html": [
       "\n",
       "        <iframe\n",
       "            width=\"400\"\n",
       "            height=\"300\"\n",
       "            src=\"https://www.youtube.com/embed/xYjF9WPyZfg?start=10&end=44&theme=light&color=red\"\n",
       "            frameborder=\"0\"\n",
       "            allowfullscreen\n",
       "        ></iframe>\n",
       "        "
      ],
      "text/plain": [
       "<IPython.lib.display.YouTubeVideo at 0x7f0b1002bc70>"
      ]
     },
     "execution_count": 7,
     "metadata": {},
     "output_type": "execute_result"
    }
   ],
   "source": [
    "# Ejemplo de una reacción termodinamicamente favorable pero sin un mecanismo de liberación de energía\n",
    "from IPython.lib.display import YouTubeVideo\n",
    "from datetime import timedelta\n",
    "\n",
    "start=int(timedelta(hours=0, minutes=0, seconds=10).total_seconds())\n",
    "stop=int(timedelta(hours=0, minutes=0, seconds=44).total_seconds())\n",
    "YouTubeVideo(\"xYjF9WPyZfg\", start=start, end=stop, theme=\"light\", color=\"red\")"
   ]
  },
  {
   "cell_type": "markdown",
   "metadata": {
    "slideshow": {
     "slide_type": "slide"
    }
   },
   "source": [
    "Análisis en estado estacionario de una red simple\n",
    "=========================================\n",
    "\n",
    "Supongamos que este metabolismo primigenio está dado por la siguiente red (inventada) de reacciones:\n",
    "\n",
    "<img src=\"https://raw.githubusercontent.com/modcommet/Clases/master/metanogenesis.png\" width=\"500\">\n",
    "\n",
    "\n",
    "1. ¿Cuál es el balance de masa de sus metabolitos en estado estacionario?\n",
    "2. ¿Cómo podemos representar el balance de masa en notación matricial?\n",
    "3. ¿Cómo podemos calcular el valor de los flujos metabólicos?\n",
    "\n"
   ]
  },
  {
   "cell_type": "markdown",
   "metadata": {
    "slideshow": {
     "slide_type": "slide"
    }
   },
   "source": [
    "# 3. Simulación de flujos metabólicos usando Programación lineal\n",
    "\n",
    "\n",
    "La distribución de flujos metabolicos de una celula puede ser modelado como:\n",
    "\n",
    "\\begin{align}\n",
    "\\mbox{max}\\ & f(x)=c^Tx \\\\\n",
    "\\mbox{s.a.} & \\\\\n",
    "&Sx=0 \\\\\n",
    "&LB<=x<=UB\n",
    "\\end{align}\n",
    "\n",
    "En donde `S` es la matriz estequiométrica, `x` los flujos metabólicos, y `LB` y `UB` que son los limites inferiores (lower bound) y superiores (upper bound) de cada flujo. Por otra parte, `c` contiene los coeficientes que ponderan el aporte de cada `x` a la generación de una función apropiada, las cuales tipicamente corresponden a biomasa o producción de energía. "
   ]
  },
  {
   "cell_type": "markdown",
   "metadata": {
    "slideshow": {
     "slide_type": "slide"
    }
   },
   "source": [
    "Para resolver este tipo de problemas usando el método simplex existe la librería `scipy.optimize.linprog`. Típicamente un modelo metabólico consiste en restricciones de igualdad, por ejemplo: \n",
    "\n",
    "\n",
    "\\begin{align}\n",
    "\\mbox{min}\\ &f(x)=70x_1+80X_2+85X_3 \\\\\n",
    "\\mbox{s.a:}\\ & \\\\\n",
    "&x_1+x_2+x_3+x_4=999 \\\\\n",
    "&x_1+4x_2+8x_3+x_5 = 4500 \\\\\n",
    "&40x_1 + 30x_2 +20x_3 = 36000 \\\\\n",
    "&3x_1 + 2x_2 +4x_3 +x_6= 2700 \\\\\n",
    "&x>=0\n",
    "\\end{align}\n",
    "\n",
    "puede ser resuelto con la siguiente sintaxis:"
   ]
  },
  {
   "cell_type": "code",
   "execution_count": 13,
   "metadata": {
    "slideshow": {
     "slide_type": "slide"
    }
   },
   "outputs": [
    {
     "name": "stdout",
     "output_type": "stream",
     "text": [
      "Optimal value: 63000.00000805061 \n",
      "X: [8.99999999e+02 5.90578300e-07 5.89605907e-08 9.89999998e+01\n",
      " 3.60000000e+03 7.90838148e-10]\n"
     ]
    }
   ],
   "source": [
    "import numpy as np\n",
    "from scipy.optimize import linprog\n",
    "from numpy.linalg import solve\n",
    "\n",
    "A = np.array([\n",
    "[1, 1, 1, 1, 0, 0],\n",
    "[1, 4, 8, 0, 1, 0],\n",
    "[40, 30, 20, 0, 0, 0],\n",
    "[3, 2, 4, 0, 0, 1]])\n",
    "\n",
    "b = np.array([999, 4500, 36000, 2700])\n",
    "c = np.array([70, 80, 85, 0, 0, 0])\n",
    "\n",
    "LB=[0]*6      # [0,0,0,0,0,0]\n",
    "UB=[100000]*6 # ya sabes la idea\n",
    "\n",
    "res = linprog(c, A_eq=A, b_eq=b, bounds=list(zip(LB,UB)))\n",
    "print('Optimal value:', res.fun, '\\nX:', res.x)"
   ]
  },
  {
   "cell_type": "markdown",
   "metadata": {
    "slideshow": {
     "slide_type": "slide"
    }
   },
   "source": [
    "Sin embargo, `linprog` tambien nos permite resolver problemas en donde las restricciones son una mezcla de igualdades y desigualdades. Por ejemplo:\n",
    "\n",
    "\\begin{align}\n",
    "\\mbox{min}\\ &f(x)=70x_1+80X_2+85X_3 \\\\\n",
    "\\mbox{s.a:}\\ & \\\\\n",
    "&x_1+x_2+x_3=999 \\\\\n",
    "&x_1+4x_2+8x_3 \\le 4500 \\\\\n",
    "&40x_1 + 30x_2 +20x_3 \\le 36000 \\\\\n",
    "&3x_1 + 2x_2 +4x_3 \\le 2700 \\\\\n",
    "&x>=0\n",
    "\\end{align}\n",
    "\n",
    "Puede ser resuelto con las siguiente sintaxis:"
   ]
  },
  {
   "cell_type": "code",
   "execution_count": 9,
   "metadata": {
    "slideshow": {
     "slide_type": "slide"
    }
   },
   "outputs": [
    {
     "name": "stdout",
     "output_type": "stream",
     "text": [
      "Optimal value: 73724.99999997338 \n",
      "X: [635.99999999 330.          33.        ]\n"
     ]
    }
   ],
   "source": [
    "import numpy as np\n",
    "from scipy.optimize import linprog\n",
    "from numpy.linalg import solve\n",
    "\n",
    "A_eq = np.array([[1,1,1]])\n",
    "b_eq = np.array([999])\n",
    "\n",
    "A_ub = np.array([\n",
    "[1, 4, 8],\n",
    "[40,30,20],\n",
    "[3,2,4]])\n",
    "\n",
    "b_ub = np.array([4500, 36000,2700])\n",
    "\n",
    "c = np.array([70, 80, 85])\n",
    "\n",
    "LB=[0]*3\n",
    "UB=[100000]*3\n",
    "\n",
    "res = linprog(c, A_eq=A_eq, b_eq=b_eq, A_ub=A_ub, b_ub=b_ub,bounds=list(zip(LB,UB)) )\n",
    "print('Optimal value:', res.fun, '\\nX:', res.x)"
   ]
  },
  {
   "cell_type": "markdown",
   "metadata": {
    "slideshow": {
     "slide_type": "slide"
    }
   },
   "source": [
    "Ejercicio\n",
    "-------------\n",
    "\n",
    "Dadao que el flujo limitante es $E_1=10$ [mmol/gDW/h], calcular el valor de los flujos metabólicos asumiendo que:\n",
    "\n",
    "1. El organismo maximiza la producción de CH4.\n",
    "2. El organismo maximiza la producción de F420."
   ]
  },
  {
   "cell_type": "code",
   "execution_count": 15,
   "metadata": {},
   "outputs": [
    {
     "data": {
      "text/plain": [
       "[10, 0, 0, 0, 0, 0, 0, 0]"
      ]
     },
     "execution_count": 15,
     "metadata": {},
     "output_type": "execute_result"
    }
   ],
   "source": [
    "[10]+[0]*7"
   ]
  }
 ],
 "metadata": {
  "celltoolbar": "Slideshow",
  "kernelspec": {
   "display_name": "Python 3",
   "language": "python",
   "name": "python3"
  },
  "language_info": {
   "codemirror_mode": {
    "name": "ipython",
    "version": 3
   },
   "file_extension": ".py",
   "mimetype": "text/x-python",
   "name": "python",
   "nbconvert_exporter": "python",
   "pygments_lexer": "ipython3",
   "version": "3.8.10"
  }
 },
 "nbformat": 4,
 "nbformat_minor": 2
}
