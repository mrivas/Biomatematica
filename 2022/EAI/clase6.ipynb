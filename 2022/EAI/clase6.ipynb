{
 "cells": [
  {
   "cell_type": "markdown",
   "metadata": {
    "slideshow": {
     "slide_type": "slide"
    }
   },
   "source": [
    "Clase 6\n",
    "===\n",
    "\n",
    "Objetivos\n",
    "\n",
    "* Introducción a dynamic FBA\n",
    "* Resolución de ODEs con scipy.\n",
    "\n",
    "Aprenderás a aplicar FBA bajo las condiciones dinámicas de cultivos por lote. En FBA dinámico (en adelante dFBA por su acrónimo en inglés: dynamic FBA) la evolución de la concetración de los metabólitos intracelulares durante la fermentación modifica las restricciones del FBA, cuyo resultado a su vez modifica los flujos de consumo y producción de las ecuaciones cinéticas."
   ]
  },
  {
   "cell_type": "markdown",
   "metadata": {
    "slideshow": {
     "slide_type": "slide"
    }
   },
   "source": [
    "Introducción a dFBA\n",
    "----------------------\n",
    "\n",
    "En un cultivo por lotes en donde puede haber alimentación.\n",
    "\n",
    "<img src=\"https://raw.githubusercontent.com/modcommet/Clases/master/clase10_reactor.png\" alt=\"Drawing\" style=\"width: 200px;\"/>\n",
    "\n",
    "la biomasa aumenta, los sustratos se consumen, y los productos se acumulan. "
   ]
  },
  {
   "cell_type": "markdown",
   "metadata": {
    "slideshow": {
     "slide_type": "slide"
    }
   },
   "source": [
    "El siguiente gráfico corresponde a las variaciones del sustrato limitante (**Glu**:Glucosa), biomasa (**X**), y producto (**Eth**:Etanol) en un cultivo por lote alimentado de *Saccharomyces cerevisiae*. \n",
    "\n",
    "<img src=\"https://raw.githubusercontent.com/modcommet/Clases/master/clase10_cinetica.png\" alt=\"Drawing\" style=\"width: 500px;\"/>"
   ]
  },
  {
   "cell_type": "markdown",
   "metadata": {
    "slideshow": {
     "slide_type": "slide"
    }
   },
   "source": [
    "Matematicamente podemos reprentar este comportamiento dinámico realizando balances de masa a cada compuesto de interes. En nuestro ejemplo, **el modelo dinámico** es:\n",
    "\n",
    "\\begin{align}\n",
    "\\frac{dV}{dt} &=   F \\\\\n",
    "\\frac{dVX}{dt} &=\\mu (VX) \\\\\n",
    "\\frac{dVGlu}{dt} &=F Glu_F-v_{Glu} MW_{Glu} (VX) \\\\\n",
    "\\frac{dVEth}{dt} &=v_{Eth} MW_{Eth} (VX) \\\\\n",
    "\\frac{dVGly}{dt} &=v_{Gly} MW_{Gly} (VX) \\\\\n",
    "\\frac{dVCit}{dt} &=v_{Cit} MW_{Cit} (VX) \\\\\n",
    "\\frac{dVLac}{dt} &=v_{Lac} MW_{Lac} (VX)] \n",
    "\\end{align}"
   ]
  },
  {
   "cell_type": "markdown",
   "metadata": {
    "slideshow": {
     "slide_type": "slide"
    }
   },
   "source": [
    "En donde los **flujos metabólicos** tanto de producción de biomasa ($\\mu$) como de metabolitos ($v_{Eth}, v_{Gly}, v_{Cit}, v_{Lac}$) son computados por FBA:\n",
    "\n",
    "\\begin{align}\n",
    "\\mbox{max}\\ & c^Tv \\\\\n",
    "\\mbox{s.a.} & \\\\\n",
    "&\\ Av=0 \\\\\n",
    "&\\ LB<=v<=UB\n",
    "\\end{align}"
   ]
  },
  {
   "cell_type": "markdown",
   "metadata": {
    "slideshow": {
     "slide_type": "slide"
    }
   },
   "source": [
    "Como FBA está parametrizado en base al flujo de sustrato limitante, debemos definir una **cinética** para este último. Esto nos permitirá calcular valores de $v_Glu$ en función de las condiciones del medio de cultivo. Por ejemplo, [Sanches et al](http://www.sciencedirect.com/science/article/pii/S1096717614000950) modelaron $v_{Glu}$ con una expresion de tipo Monod, en la cual hay inhibición por etanol:\n",
    "\n",
    "\n",
    "\\begin{align}\n",
    "v_{Glu}&=v_{Gmax}\\left( \\frac{Glu}{Glu+K_{Glu}} \\right) \\left( \\frac{K_{Eth}}{Eth+K_{Eth}} \\right)\n",
    "\\end{align}"
   ]
  },
  {
   "cell_type": "markdown",
   "metadata": {
    "slideshow": {
     "slide_type": "slide"
    }
   },
   "source": [
    "Implementación en python\n",
    "----------------------------\n",
    "\n",
    "Podemos pensar en los componentes **dinámico**, **metabólico** y **cinético** de manera modular, definidos por funciones interdependientes entre si. Por ejemplo:\n",
    "\n",
    "``` python \n",
    "time=np.linspace(0,22,200) # Discretized running time of the culture\n",
    "for i in range(len(time)):\n",
    "    # KINETIC BLOCK: \n",
    "    # given the current concentrations of glucose (Glu) and ethanol (Eth)\n",
    "    # we compute the fluxes of Glu, and upper and lower limits of Eth, Glycerol(Gly), Citrate(Cit), and Lactate(Lac)\n",
    "    v_Glu,LB_Eth,LB_Gly,LB_Cit,LB_Lac = kineticBlock(Glu,Eth)\n",
    "    # METABOLIC BLOCK\n",
    "    # given v_Glu,LB_Eth,LB_Gly,LB_Cit,LB_Lac\n",
    "    # we compute biomass growth rate (u) and metabolic fluxes of extracellular metabolites\n",
    "    u,v_Eth, v_Gly, v_Cit, v_Lac = metabolicBlock(v_Glu,LB_Eth,LB_Gly,LB_Cit,LB_Lac)\n",
    "    # DYNAMIC BLOCK\n",
    "    # given u, V, fluxes (v_Eth, v_Gly, v_Cit, v_Lac), and concentrations (X,Glu,Eth,Gly,Cit,Lac)\n",
    "    # we update reaction volume V, X and Glu,Eth,Gly,Cit,Lac\n",
    "    y = [V,X*V,Glu*V,Eth*V,Gly*V,Cit*V,Lac*V]\n",
    "    params = [F(time[i]),u,v_Glu, v_Eth, v_Gly, v_Cit, v_Lac]\n",
    "    V,X,Glu,Eth,Gly,Cit,Lac = dynamicBlock(y, params, time[i],time[i+1])\n",
    "```"
   ]
  },
  {
   "cell_type": "markdown",
   "metadata": {
    "slideshow": {
     "slide_type": "slide"
    }
   },
   "source": [
    "En donde la función del bloque dinámico está definido por:\n",
    "\n",
    "``` python \n",
    "# Dynamic block\n",
    "def f(y,t,params):\n",
    "    V,VX,VGlu,VEth,VGly,VCit,VLac = y # Current values\n",
    "    F,u, v_Glu, v_Eth, v_Gly, v_Cit, v_Lac = params  # unpack parameters\n",
    "    Glu_F = 300 # Glucose concentration on feed\n",
    "    MW_Glu,MW_Eth,MW_Gly,MW_Cit,MW_Lac = [0.18,.046,.092,.192,.090]\n",
    "    derivs=[F,                  # dV/dt\n",
    "            u*VX,                # dVX/dt\n",
    "            F*Glu_F-v_Glu*MW_Glu*(VX), # dVGlu/dt\n",
    "            v_Eth*MW_Eth*(VX), # dVEth/dt\n",
    "            v_Gly*MW_Gly*(VX), # dVGly/dt\n",
    "            v_Cit*MW_Cit*(VX), # dVCit/dt\n",
    "            v_Lac*MW_Lac*(VX)] # dVLac/dt\n",
    "    return derivs\n",
    "def dynamicBlock(y,params, ti,tf):\n",
    "    time=np.linspace(ti,tf,100)\n",
    "    #F,u,v_Glu, v_Eth, v_Gly, v_Cit, v_Lac = params\n",
    "    soln = odeint(f,y,time,args=(params,))\n",
    "    V=soln[-1,0]\n",
    "    X,Glu,Eth,Gly,Cit,Lac=soln[-1,1:7]/V\n",
    "    return [V,X,Glu,Eth,Gly,Cit,Lac]    \n",
    "\n",
    "```"
   ]
  },
  {
   "cell_type": "markdown",
   "metadata": {
    "slideshow": {
     "slide_type": "slide"
    }
   },
   "source": [
    "el bloque metabólico:\n",
    "\n",
    "``` python \n",
    "# Metabolic block\n",
    "def metabolicBlock(v_Glu,LB_Eth,LB_Gly,LB_Cit,LB_Lac):\n",
    "    model.reactions.get_by_id(\"EX_glc__D_e\").lower_bound = -v_Glu # set flux of glucose\n",
    "    model.reactions.get_by_id(\"EX_glc__D_e\").upper_bound = -v_Glu # set flux of glucose\n",
    "    solution = model.optimize()\n",
    "    u = solution.f\n",
    "    v_Eth = model.reactions.get_by_id(\"EX_etoh_e\").x\n",
    "    v_Gly = model.reactions.get_by_id(\"EX_glyc_e\").x\n",
    "    v_Cit = model.reactions.get_by_id(\"EX_cit_e\").x\n",
    "    v_Lac = model.reactions.get_by_id(\"EX_lac__D_e\").x\n",
    "    return [u, v_Eth, v_Gly, v_Cit, v_Lac]\n",
    "```    "
   ]
  },
  {
   "cell_type": "markdown",
   "metadata": {
    "slideshow": {
     "slide_type": "slide"
    }
   },
   "source": [
    "y el cinético:\n",
    "\n",
    "``` python \n",
    "# Kinetic block\n",
    "def kineticBlock(Glu,Eth):\n",
    "    # Parameters\n",
    "    vGmax, K_Glu, K_Eth = 22.5, 0.88, 6.74\n",
    "    f_Eth,f_Gly, f_Cit, f_Lac = .112, .273, .169, .137\n",
    "    v_Glu=vGmax*Glu/(K_Glu+Glu)*K_Eth/(Eth+K_Eth)\n",
    "    LB_Eth = v_Glu*f_Eth\n",
    "    LB_Gly = v_Glu*f_Gly\n",
    "    LB_Cit = v_Glu*f_Cit\n",
    "    LB_Lac = v_Glu*f_Lac\n",
    "    #LB_ATP_Ex = m_ATP\n",
    "    return [v_Glu,LB_Eth,LB_Gly,LB_Cit,LB_Lac]\n",
    "```"
   ]
  },
  {
   "cell_type": "markdown",
   "metadata": {
    "slideshow": {
     "slide_type": "slide"
    }
   },
   "source": [
    "El bloque dinámico implica resolver sistema de ecuaciones diferenciales por cada iteración en el tiempo. Hoy, el foco de la clase es la resolución de ecuaciones diferenciales (ODEs por su acrónimo en inglés) ordinarias en Python. Luego en las siguientes clases nos enfocaremos en los otros dos bloques.  \n",
    "\n",
    "Nota: Los siguientes dos ejemplos fueron extraidos desde [aquí](https://apmonitor.com/pdc/index.php/Main/SolveDifferentialEquations)."
   ]
  },
  {
   "cell_type": "markdown",
   "metadata": {
    "slideshow": {
     "slide_type": "slide"
    }
   },
   "source": [
    "Ejercicio 1\n",
    "-------------\n",
    "\n",
    "Resolver el siguiente ODE:\n",
    "\n",
    "$\\frac{dy}{dt}=-ky$\n",
    "\n",
    "con condición inicial $y_0=5$, y un valor de $k=0.3$."
   ]
  },
  {
   "cell_type": "code",
   "execution_count": null,
   "metadata": {
    "slideshow": {
     "slide_type": "slide"
    }
   },
   "outputs": [],
   "source": [
    "import numpy as np\n",
    "from scipy.integrate import odeint\n",
    "import matplotlib.pyplot as plt\n",
    "\n",
    "# function that returns dy/dt\n",
    "def model(y,t):\n",
    "    k = 0.1\n",
    "    dydt = -k * y\n",
    "    return dydt\n",
    "\n",
    "# initial condition\n",
    "y0 = 2.5\n",
    "\n",
    "# time points\n",
    "t = np.linspace(0,40)\n",
    "\n",
    "# solve ODE\n",
    "y = odeint(model,y0,t)\n",
    "\n",
    "# plot results\n",
    "plt.plot(t,y)\n",
    "plt.xlabel('time [h]')\n",
    "plt.ylabel('y [g]')\n",
    "plt.show()"
   ]
  },
  {
   "cell_type": "markdown",
   "metadata": {
    "slideshow": {
     "slide_type": "slide"
    }
   },
   "source": [
    "Ejercicio 2\n",
    "-------------\n",
    "\n",
    "Resolver el siguiente ODE anterior pero esta vez para valores de $k$ igual a 0.1, 0.2, y 0.5."
   ]
  },
  {
   "cell_type": "code",
   "execution_count": null,
   "metadata": {
    "slideshow": {
     "slide_type": "slide"
    }
   },
   "outputs": [],
   "source": []
  },
  {
   "cell_type": "markdown",
   "metadata": {
    "collapsed": true,
    "slideshow": {
     "slide_type": "slide"
    }
   },
   "source": [
    "Ejercicio 3\n",
    "-------------\n",
    "\n",
    "Veamos como resolver un sistema de ecuaciónes diferenciales ordinarias a través de un problema concreto: cinética enzimática\n",
    "\n",
    "Una reacción enzimática puede ser modelada como:\n",
    "\n",
    "<img src=\"https://raw.githubusercontent.com/modcommet/Clases/master/clase10_enzyme_reaction.png\" alt=\"Drawing\" style=\"width: 400px;\"/>"
   ]
  },
  {
   "cell_type": "markdown",
   "metadata": {
    "collapsed": true,
    "slideshow": {
     "slide_type": "slide"
    }
   },
   "source": [
    "De manera mas formal: un substrato $S$ reacciona con una enzima $E$ para formar un complejo $ES$ que es convertido en producto $P$ y en enzima disociada:\n",
    "\n",
    "\\begin{equation}\n",
    "E+S \\overset{k_1}{ \\underset{k_{2}}{\\rightleftharpoons}} ES \\stackrel{k_3}{\\rightarrow} E + P\n",
    "\\end{equation}"
   ]
  },
  {
   "cell_type": "markdown",
   "metadata": {
    "collapsed": true,
    "slideshow": {
     "slide_type": "slide"
    }
   },
   "source": [
    "La primera reacción es reversible con constantes cinéticas de unión y desunion del complejo ES iguales a $k_1$ y $k_2$, respectivamente. La segunda reacción es irreversible con constante cinética $k_3$. El comportamiento cinético de estas reacciones es descrito por el siguiente set de ecuaciones diferenciales:\n",
    "\n",
    "\\begin{align}\n",
    "\\frac{d[S]}{dt} &= -k_1[E][S]+ k_2[ES]\\\\\n",
    "\\frac{d[E]}{dt} &= -k_1[E][S]+ (k_{2}+k_3)[ES]\\\\\n",
    "\\frac{d[ES]}{dt} &= k_1[E][S]- (k_{2}+k_3)[ES]\\\\\n",
    "\\frac{d[P]}{dt} &= k_3[ES]\\\\\n",
    "\\end{align}"
   ]
  },
  {
   "cell_type": "markdown",
   "metadata": {
    "collapsed": true,
    "slideshow": {
     "slide_type": "slide"
    }
   },
   "source": [
    "Con condiciones iniciales:\n",
    "\n",
    "$[S]_{t=0}=1,[E]_{t=0}=2,[ES]_{t=0}=0,[P]_{t=0}=0$\n",
    "\n",
    "y parametros:\n",
    "\n",
    "$k_1=0.5$, $k_2=0.25$, y $k_3=0.25$\n",
    "\n",
    "Resolver el sistema dinámico hasta un timpo final de 30 horas."
   ]
  },
  {
   "cell_type": "code",
   "execution_count": null,
   "metadata": {
    "slideshow": {
     "slide_type": "slide"
    }
   },
   "outputs": [],
   "source": []
  },
  {
   "cell_type": "markdown",
   "metadata": {
    "slideshow": {
     "slide_type": "slide"
    }
   },
   "source": [
    "Ejercicio 4\n",
    "-------------\n",
    "\n",
    "La siguiente es la Dinámica de (P)resa-(C)azador. Haz un programa en jupyter para resolver este ODE y luego implementa tu solución en un script. Para este ejercicio eres libre de elegir valores de $\\alpha$, $\\beta$, $\\delta$, y $\\gamma$ que consideres razonables.\n",
    "\n",
    "\\begin{align}\n",
    "\\frac{dP}{dt} &= \\alpha P - \\beta P C\\\\\n",
    "\\frac{dC}{dt} &= \\delta PC -\\gamma C\n",
    "\\end{align}"
   ]
  },
  {
   "cell_type": "code",
   "execution_count": null,
   "metadata": {
    "slideshow": {
     "slide_type": "slide"
    }
   },
   "outputs": [],
   "source": []
  },
  {
   "cell_type": "markdown",
   "metadata": {
    "slideshow": {
     "slide_type": "slide"
    }
   },
   "source": [
    "# Implementación de dFBA para *S. cerevisiae*\n"
   ]
  },
  {
   "cell_type": "code",
   "execution_count": null,
   "metadata": {
    "slideshow": {
     "slide_type": "slide"
    }
   },
   "outputs": [],
   "source": [
    "# Data based on:\n",
    "# https://doi.org/10.1016/j.ymben.2014.07.004\n",
    "# Libraries for the Dynamic block\n",
    "import numpy as np\n",
    "from scipy.integrate import odeint\n",
    "# Libraries for the Metabolic block\n",
    "import cobra\n",
    "import os\n",
    "from os.path import join\n",
    "data_dir=\".\"\n",
    "model=cobra.io.read_sbml_model(join(data_dir, \"iMM904.xml\"))\n",
    "# Plotting libraries\n",
    "import matplotlib.pyplot as plt"
   ]
  },
  {
   "cell_type": "code",
   "execution_count": null,
   "metadata": {
    "slideshow": {
     "slide_type": "slide"
    }
   },
   "outputs": [],
   "source": [
    "# Kinetic block\n",
    "def kineticBlock(Glu,Eth):\n",
    "    # Parameters\n",
    "    vGmax, K_Glu, K_Eth = 22.5, 0.88, 6.74\n",
    "    f_Eth,f_Gly, f_Cit, f_Lac = .112, .273, .169, .137\n",
    "    v_Glu=vGmax*Glu/(K_Glu+Glu)*1/(1+Eth/K_Eth)\n",
    "    LB_Eth = -v_Glu*f_Eth\n",
    "    LB_Gly = -v_Glu*f_Gly\n",
    "    LB_Cit = -v_Glu*f_Cit\n",
    "    LB_Lac = -v_Glu*f_Lac\n",
    "    #LB_ATP_Ex = m_ATP\n",
    "    return [v_Glu,LB_Eth,LB_Gly,LB_Cit,LB_Lac]\n",
    "\n",
    "# Metabolic block\n",
    "def metabolicBlock(v_Glu,LB_Eth,LB_Gly,LB_Cit,LB_Lac):\n",
    "    print(v_Glu)\n",
    "    model.reactions.get_by_id(\"EX_glc__D_e\").bounds = (-v_Glu,-v_Glu) # set flux of glucose\n",
    "    #model.reactions.get_by_id(\"EX_etoh_e\").lower_bound   = LB_Eth\n",
    "    #model.reactions.get_by_id(\"EX_glyc_e\").lower_bound   = LB_Gly\n",
    "    #model.reactions.get_by_id(\"EX_cit_e\").lower_bound    = LB_Cit\n",
    "    #model.reactions.get_by_id(\"EX_lac__D_e\").lower_bound = LB_Lac\n",
    "    # The same for Eth, Gly, Cit, Lac\n",
    "\n",
    "    solution = model.optimize()\n",
    "    u = solution.objective_value\n",
    "    v_Eth = model.reactions.get_by_id(\"EX_etoh_e\").x\n",
    "    v_Gly = model.reactions.get_by_id(\"EX_glyc_e\").x\n",
    "    v_Cit = model.reactions.get_by_id(\"EX_cit_e\").x\n",
    "    v_Lac = model.reactions.get_by_id(\"EX_lac__D_e\").x\n",
    "    return [u, v_Eth, v_Gly, v_Cit, v_Lac]\n",
    "    \n",
    "# Dynamic block\n",
    "def f(y,t,params):\n",
    "    V,VX,VGlu,VEth,VGly,VCit,VLac = y # Current values\n",
    "    F,u, v_Glu, v_Eth, v_Gly, v_Cit, v_Lac = params  # unpack parameters\n",
    "    Glu_F = 200\n",
    "    MW_Glu,MW_Eth,MW_Gly,MW_Cit,MW_Lac = [0.18,.046,.092,.192,.090] #Molecular weights\n",
    "    derivs=[F,                  # dV/dt\n",
    "            u*VX,                # dVX/dt\n",
    "            F*Glu_F-v_Glu*MW_Glu*(VX), # dVGlu/dt\n",
    "            v_Eth*MW_Eth*(VX), # dVEth/dt\n",
    "            v_Gly*MW_Gly*(VX), # dVGly/dt\n",
    "            v_Cit*MW_Cit*(VX), # dVCit/dt\n",
    "            v_Lac*MW_Lac*(VX)] # dVLac/dt\n",
    "    return derivs\n",
    "def dynamicBlock(y,params, ti,tf):\n",
    "    time=np.linspace(ti,tf,100)\n",
    "    #F,u,v_Glu, v_Eth, v_Gly, v_Cit, v_Lac = params\n",
    "    soln = odeint(f,y,time,args=(params,))\n",
    "    # Get solutions at the final time point (tf):\n",
    "    V=soln[-1,0]\n",
    "    X,Glu,Eth,Gly,Cit,Lac=soln[-1,1:7]/V\n",
    "    return [V,X,Glu,Eth,Gly,Cit,Lac]    \n",
    "\n",
    "\n",
    "# Save results along the fermentation path\n",
    "u_path,V_path,X_path = [],[],[]\n",
    "Glu_path,Eth_path,Gly_path,Cit_path,Lac_path = [],[],[],[],[]\n",
    "v_Glu_path=[]\n",
    "def savePath(u,V,X,Glu,Eth,Gly,Cit,Lac,v_Glu):\n",
    "    global u_path,V_path,X_path\n",
    "    global Glu_path,Eth_path,Gly_path,Cit_path,Lac_path\n",
    "    global v_Glu_path\n",
    "    u_path += [u]\n",
    "    V_path += [V]\n",
    "    X_path += [X]\n",
    "    Glu_path += [Glu]\n",
    "    Eth_path += [Eth]\n",
    "    Gly_path += [Gly]\n",
    "    Cit_path += [Cit]\n",
    "    Lac_path += [Lac]\n",
    "    v_Glu_path += [v_Glu]"
   ]
  },
  {
   "cell_type": "code",
   "execution_count": null,
   "metadata": {
    "slideshow": {
     "slide_type": "slide"
    }
   },
   "outputs": [],
   "source": [
    "# Initial conditions\n",
    "Glu=20\n",
    "Eth,Gly,Cit,Lac=[0,0,0,0]\n",
    "V,X=[0.5,0.5]\n",
    "F=0.25\n",
    "\n",
    "# Running the simulation over time\n",
    "time=np.linspace(0,50,600)\n",
    "for i in range(len(time)):\n",
    "    # KINETIC BLOCK: \n",
    "    # given the current concentrations of glucose (Glu) and ethanol (Eth)\n",
    "    # we compute the fluxes of Glu, and upper and lower limits of Eth, Glycerol(Gly), Citrate(Cit), and Lactate(Lac)\n",
    "    v_Glu,LB_Eth,LB_Gly,LB_Cit,LB_Lac = kineticBlock(Glu,Eth)\n",
    "    # METABOLIC BLOCK\n",
    "    # given v_Glu,LB_Eth,LB_Gly,LB_Cit,LB_Lac\n",
    "    # we compute biomass growth rate (u) and metabolic fluxes of extracellular metabolites\n",
    "    u,v_Eth, v_Gly, v_Cit, v_Lac = metabolicBlock(v_Glu,LB_Eth,LB_Gly,LB_Cit,LB_Lac)\n",
    "    # DYNAMIC BLOCK\n",
    "    # given u, V, fluxes (v_Eth, v_Gly, v_Cit, v_Lac), and concentrations (X,Glu,Eth,Gly,Cit,Lac)\n",
    "    # we update reaction volume V, X and Glu,Eth,Gly,Cit,Lac\n",
    "    if i==len(time)-1: continue\n",
    "    y = [V,X*V,Glu*V,Eth*V,Gly*V,Cit*V,Lac*V]\n",
    "    params = [F,u,v_Glu, v_Eth, v_Gly, v_Cit, v_Lac]\n",
    "    V,X,Glu,Eth,Gly,Cit,Lac = dynamicBlock(y, params, time[i],time[i+1])\n",
    "    # Save results along the fermentaion path\n",
    "    savePath(u,V,X,Glu,Eth,Gly,Cit,Lac,v_Glu)"
   ]
  },
  {
   "cell_type": "markdown",
   "metadata": {
    "slideshow": {
     "slide_type": "slide"
    }
   },
   "source": [
    "Ejercicio 5\n",
    "------------\n",
    "\n",
    "1. Grafica los perfiles de concentración de biomasa glucosa, y etanol a lo largo del tiempo de fermentación.\n",
    "2. Repite los resultados anteriores pero esta vez bajo las siguientes condiciones: Glu_0=5,Glu_F=300 y Glu_0=5,Glu_F=100"
   ]
  },
  {
   "cell_type": "code",
   "execution_count": null,
   "metadata": {
    "slideshow": {
     "slide_type": "slide"
    }
   },
   "outputs": [],
   "source": [
    "plt.plot(time[1:600],Glu_path,'r',linewidth=2,label='Glu')\n",
    "plt.plot(time[1:600],X_path,'b',linewidth=2,label='X')\n",
    "plt.plot(time[1:600],Eth_path,'g',linewidth=2,label='Eth')\n",
    "plt.legend()\n",
    "plt.ylabel('Biomass, Glucose & Ethanol [g/L]')\n",
    "plt.xlabel('Time [h]')\n",
    "plt.show()"
   ]
  },
  {
   "cell_type": "code",
   "execution_count": null,
   "metadata": {
    "slideshow": {
     "slide_type": "slide"
    }
   },
   "outputs": [],
   "source": []
  }
 ],
 "metadata": {
  "celltoolbar": "Slideshow",
  "kernelspec": {
   "display_name": "Python 3",
   "language": "python",
   "name": "python3"
  },
  "language_info": {
   "codemirror_mode": {
    "name": "ipython",
    "version": 3
   },
   "file_extension": ".py",
   "mimetype": "text/x-python",
   "name": "python",
   "nbconvert_exporter": "python",
   "pygments_lexer": "ipython3",
   "version": "3.8.10"
  },
  "rise": {
   "enable_chalkboard": true,
   "scroll": true
  }
 },
 "nbformat": 4,
 "nbformat_minor": 2
}
