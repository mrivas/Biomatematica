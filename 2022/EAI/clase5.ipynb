{
 "cells": [
  {
   "cell_type": "markdown",
   "metadata": {
    "slideshow": {
     "slide_type": "slide"
    }
   },
   "source": [
    "# Clase 5\n",
    "\n",
    "\n",
    "\n",
    "## Contenidos\n",
    "--------------\n",
    "\n",
    "1. Bases de datos de redes metabólicas\n",
    "2. Definición de restricciones y variables adicionales\n",
    "3. Ajustar modelo a variables experimentales"
   ]
  },
  {
   "cell_type": "markdown",
   "metadata": {
    "slideshow": {
     "slide_type": "slide"
    }
   },
   "source": [
    "# Bases de datos de redes metabólicas\n",
    "\n",
    "Hoy exploraremos el repositorio de modelos [BiGG](http://bigg.ucsd.edu/). \n",
    "\n",
    "\n",
    "Ejercicio\n",
    "------------\n",
    "\n",
    "Descarga el modelo de *Bacillus subtilis* iYO844 en formato SBML."
   ]
  },
  {
   "cell_type": "code",
   "execution_count": null,
   "metadata": {
    "slideshow": {
     "slide_type": "slide"
    }
   },
   "outputs": [],
   "source": [
    "import cobra\n",
    "# Cargamos el modelo de Bacillus subtilis\n",
    "bacilusModel=cobra.io.read_sbml_model(\"iYO844.xml\")\n",
    "%pwd\n",
    "#%ls -l"
   ]
  },
  {
   "cell_type": "code",
   "execution_count": null,
   "metadata": {
    "slideshow": {
     "slide_type": "slide"
    }
   },
   "outputs": [],
   "source": [
    "# Información general del modelo\n",
    "bacilusModel"
   ]
  },
  {
   "cell_type": "code",
   "execution_count": null,
   "metadata": {
    "slideshow": {
     "slide_type": "slide"
    }
   },
   "outputs": [],
   "source": [
    "# Reacciones de consumo de sustratos desde el medio de cultivo\n",
    "bacilusModel.medium"
   ]
  },
  {
   "cell_type": "code",
   "execution_count": null,
   "metadata": {
    "slideshow": {
     "slide_type": "slide"
    }
   },
   "outputs": [],
   "source": [
    "# Simular los flujos con FBA\n",
    "solution=bacilusModel.optimize()"
   ]
  },
  {
   "cell_type": "code",
   "execution_count": null,
   "metadata": {
    "slideshow": {
     "slide_type": "slide"
    }
   },
   "outputs": [],
   "source": [
    "# Resumen de la solucion\n",
    "bacilusModel.summary()"
   ]
  },
  {
   "cell_type": "markdown",
   "metadata": {
    "slideshow": {
     "slide_type": "slide"
    }
   },
   "source": [
    "## Especificando restricciones adicionales\n",
    "\n",
    "\n",
    "Supón que queremos asegurarnos que dos reaccioens tengan el mismo flujo en nuestro modelo. Podemos agregar este criterio como una restricción a nuestro modelo a través de la siguiente sintaxis:\n",
    "\n",
    "``` python\n",
    "same_flux = model.problem.Constraint(\n",
    "    bacilusModel.reactions.FBA.flux_expression - model.reactions.NH4t.flux_expression,\n",
    "    lb=0,\n",
    "    ub=0)\n",
    "bacilusModel.add_cons_vars(same_flux)\n",
    "```"
   ]
  },
  {
   "cell_type": "code",
   "execution_count": null,
   "metadata": {
    "slideshow": {
     "slide_type": "slide"
    }
   },
   "outputs": [],
   "source": [
    "bacilusModel=cobra.io.read_sbml_model(\"iYO844.xml\")\n",
    "\n",
    "same_flux = bacilusModel.problem.Constraint(\n",
    "    3*bacilusModel.reactions.EX_glc__D_e.flux_expression - \n",
    "    bacilusModel.reactions.EX_o2_e.flux_expression,\n",
    "    lb=0,\n",
    "    ub=0)\n",
    "bacilusModel.add_cons_vars(same_flux)\n",
    "solution=bacilusModel.optimize()\n",
    "bacilusModel.summary()"
   ]
  },
  {
   "cell_type": "markdown",
   "metadata": {
    "slideshow": {
     "slide_type": "slide"
    }
   },
   "source": [
    "## Ejercicio\n",
    "\n",
    "\n",
    "En el modelo de *Bacillus subtilis* especifica que el consumo de oxygeno \n",
    "\n",
    "1. sea igual al consumo de glucosa. \n",
    "2. sea 3 veces el consumo de glucosa"
   ]
  },
  {
   "cell_type": "code",
   "execution_count": null,
   "metadata": {
    "slideshow": {
     "slide_type": "slide"
    }
   },
   "outputs": [],
   "source": []
  },
  {
   "cell_type": "markdown",
   "metadata": {
    "slideshow": {
     "slide_type": "slide"
    }
   },
   "source": [
    "Especificando variables adicionales\n",
    "---------------------------------------\n",
    "\n",
    "Supón que queremos medir las diferencia entre el flujo de dos reacciones. Para esto podemos crear una variable adicional ```diff```.\n",
    "\n",
    "\n",
    "```python\n",
    "difference = model.problem.Variable('difference')\n",
    "```\n",
    "\n",
    "y luego definirla como la diferencia entre las dos reacciones de interes, por ejemplo:\n",
    "\n",
    "```python\n",
    "constraint = model.problem.Constraint(\n",
    "    model.reactions.EX_glc__D_e.flux_expression -\n",
    "    model.reactions.EX_nh4_e.flux_expression - difference,\n",
    "    lb=0,\n",
    "    ub=0)\n",
    "model.add_cons_vars([difference, constraint])\n",
    "```"
   ]
  },
  {
   "cell_type": "code",
   "execution_count": null,
   "metadata": {
    "slideshow": {
     "slide_type": "slide"
    }
   },
   "outputs": [],
   "source": []
  },
  {
   "cell_type": "markdown",
   "metadata": {
    "slideshow": {
     "slide_type": "slide"
    }
   },
   "source": [
    "Ejercicio\n",
    "------------\n",
    "\n",
    "En el modelo de *Bacillus subtilis* define una varibale que mida la diferencia entre los flujos de consumo de glucosa y nh4_e. "
   ]
  },
  {
   "cell_type": "code",
   "execution_count": null,
   "metadata": {},
   "outputs": [],
   "source": []
  },
  {
   "cell_type": "markdown",
   "metadata": {},
   "source": [
    "Medir calidad de las simulaciones\n",
    "--------------------------------------\n",
    "\n",
    "Si conocemos el valor de uno o varios flujos metabólicos podemos ajustar nuestro modelo a estos datos. Hay varias maneras de hacer esto, la primera es simplemente fijar el valor de los flujos como veremos a continuación. \n",
    "\n",
    "A modo de ejemplo usaremos *Saccharomyces cerevisae* iMM904 [(descargar aquí)](http://bigg.ucsd.edu/models/iMM904) y los flujos experimentales compilados por [García et al 2012](https://journals.plos.org/plosone/article?id=10.1371%2Fjournal.pone.0043006)\n"
   ]
  },
  {
   "cell_type": "code",
   "execution_count": null,
   "metadata": {},
   "outputs": [],
   "source": [
    "# Let's import the yeast model\n",
    "import cobra\n",
    "model = cobra.io.read_sbml_model(\"iMM904.xml\")"
   ]
  },
  {
   "cell_type": "code",
   "execution_count": null,
   "metadata": {},
   "outputs": [],
   "source": [
    "# And check the solution using default parameters\n",
    "solution=model.optimize()\n",
    "model.summary()"
   ]
  },
  {
   "cell_type": "code",
   "execution_count": null,
   "metadata": {
    "scrolled": true
   },
   "outputs": [],
   "source": [
    "# Now, let's modify the ethanol flux\n",
    "# First, lets find the reactions associated with ethanol\n",
    "import re\n",
    "\n",
    "def buscarMetabolito(nombreMetabolite):\n",
    "    metabolites=[]\n",
    "    for metabolite in model.metabolites:\n",
    "        if re.match(nombreMetabolite,metabolite.name,re.IGNORECASE):# and re.match(\"_e\",metabolite.name): \n",
    "            metabolites.append(metabolite)\n",
    "    if len(metabolites)==0:\n",
    "        print( \"Not found metabolite\" )\n",
    "        return None\n",
    "    else: #print \"2 lets find the reactions associated with the name\"\n",
    "        for metabolite in metabolites:\n",
    "            print( \"==================================\")\n",
    "            print( metabolite.name, metabolite.id)\n",
    "            print( \"==================================\")\n",
    "            for reaction in model.metabolites.get_by_id(metabolite.id).reactions:\n",
    "                print( reaction )\n",
    "result=buscarMetabolito(\"D-Glucose\")"
   ]
  },
  {
   "cell_type": "code",
   "execution_count": null,
   "metadata": {},
   "outputs": [],
   "source": []
  },
  {
   "cell_type": "code",
   "execution_count": null,
   "metadata": {
    "scrolled": true
   },
   "outputs": [],
   "source": []
  },
  {
   "cell_type": "markdown",
   "metadata": {},
   "source": [
    "Es posible que errores de medición resulten en datos de flujos metabólicos que no son estequiometricamente compatibles. Para estos casos, una alternativa es fijar un rango de valores en lugar de un valor exacto. "
   ]
  },
  {
   "cell_type": "code",
   "execution_count": null,
   "metadata": {},
   "outputs": [],
   "source": [
    "\n"
   ]
  },
  {
   "cell_type": "markdown",
   "metadata": {},
   "source": [
    "Ejercicio 1\n",
    "---------\n",
    "\n",
    "Usando los valores experimentales compilados por [García et al 2012](https://journals.plos.org/plosone/article?id=10.1371%2Fjournal.pone.0043006) desde la referencia [20] (ver la columna **References** en Table_S1.doc):\n",
    "\n",
    "1. Fija la reacción de consumo de glucosa, succinato, ethanol, y piruvato a datos experimentales (haciendo 1 esto debería ser trivial)."
   ]
  },
  {
   "cell_type": "code",
   "execution_count": null,
   "metadata": {
    "slideshow": {
     "slide_type": "slide"
    }
   },
   "outputs": [],
   "source": []
  }
 ],
 "metadata": {
  "celltoolbar": "Slideshow",
  "kernelspec": {
   "display_name": "Python 3",
   "language": "python",
   "name": "python3"
  },
  "language_info": {
   "codemirror_mode": {
    "name": "ipython",
    "version": 3
   },
   "file_extension": ".py",
   "mimetype": "text/x-python",
   "name": "python",
   "nbconvert_exporter": "python",
   "pygments_lexer": "ipython3",
   "version": "3.8.10"
  }
 },
 "nbformat": 4,
 "nbformat_minor": 4
}
