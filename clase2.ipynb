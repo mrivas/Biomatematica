{
 "cells": [
  {
   "cell_type": "markdown",
   "metadata": {
    "slideshow": {
     "slide_type": "slide"
    }
   },
   "source": [
    "# Clase 2\n",
    "# Algebra lineal aplicada al metabolismo celular\n",
    "\n",
    "## Pasar lista\n",
    "## Contenidos\n",
    "\n",
    "* Modelos en base a restricciones del metabolismo celular\n",
    "* Jupyter Notebooks\n",
    "* Métodos númericos con `numpy`"
   ]
  },
  {
   "cell_type": "markdown",
   "metadata": {
    "slideshow": {
     "slide_type": "slide"
    }
   },
   "source": [
    "# 1. Modelos en base a restricciones del metabolismo celular"
   ]
  },
  {
   "cell_type": "markdown",
   "metadata": {
    "slideshow": {
     "slide_type": "fragment"
    }
   },
   "source": [
    "La red de un organismo simple, como el de la bacteria *Escherichia coli*, luce así:\n",
    "\n",
    "<img src=\"https://raw.githubusercontent.com/mrivas/ModelamientoDeProcesosBiotecnologicos/master/clase4_eColiMetabolis.png\" alt=\"Drawing\" style=\"width: 600px;\"/>\n",
    "\n",
    "\n",
    "[\"Fuente KEGG\"](https://www.genome.jp/kegg-bin/show_pathway?eco01100+M00125)\n"
   ]
  },
  {
   "cell_type": "markdown",
   "metadata": {
    "slideshow": {
     "slide_type": "slide"
    }
   },
   "source": [
    "Los arcos son reacciones enzimáticas. Los nodos son los susbtratos y productos de cada reacción.\n",
    "\n",
    "<img src=\"https://nnhsbiology.pbworks.com/f/1592912595/lactase%20enzyme.png\" alt=\"Drawing\" style=\"width: 600px;\"/>"
   ]
  },
  {
   "cell_type": "markdown",
   "metadata": {
    "slideshow": {
     "slide_type": "slide"
    }
   },
   "source": [
    "Los arcos son reacciones enzimáticas. Los nodos son los susbtratos y productos de cada reacción\n",
    "\n",
    "<img src=\"https://kaiserscience.files.wordpress.com/2019/04/gif-mitochondrial-atp-synthase.gif\" alt=\"Drawing\" style=\"width: 600px;\"/>"
   ]
  },
  {
   "cell_type": "markdown",
   "metadata": {
    "slideshow": {
     "slide_type": "slide"
    }
   },
   "source": [
    "### ¿Cómo modelar la distribución de flujos?\n",
    "\n",
    "Modelos en base a restricciones.\n",
    "\n",
    "<img src=\"https://raw.githubusercontent.com/mrivas/ModelamientoDeProcesosBiotecnologicos/master/2022/Bordbard2014.png\" alt=\"Drawing\" style=\"width: 600px;\"/>\n"
   ]
  },
  {
   "cell_type": "markdown",
   "metadata": {
    "slideshow": {
     "slide_type": "slide"
    }
   },
   "source": [
    "<img src=\"https://raw.githubusercontent.com/mrivas/ModelamientoDeProcesosBiotecnologicos/master/2022/cbm.png\" alt=\"Drawing\" style=\"width: 900px;\"/>\n"
   ]
  },
  {
   "cell_type": "markdown",
   "metadata": {
    "slideshow": {
     "slide_type": "slide"
    }
   },
   "source": [
    "¿Qué punto de este espacio de soluciones factibles elegimos como la más representativa del metabolismo celular?"
   ]
  },
  {
   "cell_type": "markdown",
   "metadata": {
    "slideshow": {
     "slide_type": "slide"
    }
   },
   "source": [
    "<img src=\"https://raw.githubusercontent.com/mrivas/ModelamientoDeProcesosBiotecnologicos/master/2022/Lewis2012.png\" alt=\"Drawing\" style=\"width: 500px;\"/>"
   ]
  },
  {
   "cell_type": "markdown",
   "metadata": {
    "slideshow": {
     "slide_type": "slide"
    }
   },
   "source": [
    "<img src=\"https://raw.githubusercontent.com/mrivas/ModelamientoDeProcesosBiotecnologicos/master/2022/biomassRxn.png\" alt=\"Drawing\" style=\"width: 800px;\"/>\n"
   ]
  },
  {
   "cell_type": "markdown",
   "metadata": {
    "slideshow": {
     "slide_type": "slide"
    }
   },
   "source": [
    "# 2. Jupyter notebooks"
   ]
  },
  {
   "cell_type": "markdown",
   "metadata": {
    "slideshow": {
     "slide_type": "fragment"
    }
   },
   "source": [
    "Operaciones básicas\n",
    "-------------------"
   ]
  },
  {
   "cell_type": "code",
   "execution_count": null,
   "metadata": {
    "slideshow": {
     "slide_type": "fragment"
    }
   },
   "outputs": [],
   "source": [
    "# Aritmética\n",
    "x = 1\n",
    "y = 2\n",
    "x / y"
   ]
  },
  {
   "cell_type": "code",
   "execution_count": null,
   "metadata": {
    "slideshow": {
     "slide_type": "slide"
    }
   },
   "outputs": [],
   "source": [
    "# Evaluaciones lógicas\n",
    "x = 6\n",
    "y = 6\n",
    "x == y"
   ]
  },
  {
   "cell_type": "code",
   "execution_count": null,
   "metadata": {
    "slideshow": {
     "slide_type": "slide"
    }
   },
   "outputs": [],
   "source": [
    "range(5) # crea la lista [0,1,2,3,4]"
   ]
  },
  {
   "cell_type": "code",
   "execution_count": null,
   "metadata": {
    "slideshow": {
     "slide_type": "slide"
    }
   },
   "outputs": [],
   "source": [
    "# Loops\n",
    "for i in range(5):\n",
    "    print(i,i*3)"
   ]
  },
  {
   "cell_type": "markdown",
   "metadata": {
    "slideshow": {
     "slide_type": "slide"
    }
   },
   "source": [
    "Definición de funciones\n",
    "-----------------------"
   ]
  },
  {
   "cell_type": "code",
   "execution_count": null,
   "metadata": {
    "slideshow": {
     "slide_type": "fragment"
    }
   },
   "outputs": [],
   "source": [
    "def sumaNumeros(x,y):\n",
    "    z = x + y\n",
    "    return(z)"
   ]
  },
  {
   "cell_type": "code",
   "execution_count": null,
   "metadata": {
    "slideshow": {
     "slide_type": "slide"
    }
   },
   "outputs": [],
   "source": []
  },
  {
   "cell_type": "markdown",
   "metadata": {
    "slideshow": {
     "slide_type": "slide"
    }
   },
   "source": [
    "Uso de librerias\n",
    "----------------"
   ]
  },
  {
   "cell_type": "code",
   "execution_count": null,
   "metadata": {
    "slideshow": {
     "slide_type": "fragment"
    }
   },
   "outputs": [],
   "source": [
    "import numpy as np #importa la librería numpy\n",
    "x = np.linspace(-5,5,100) # crea un intervalo entre -5 y 5 con 100 elementos\n",
    "y = np.sin(x) # calcula la función seno para cada elemento de x\n",
    "x"
   ]
  },
  {
   "cell_type": "code",
   "execution_count": null,
   "metadata": {
    "slideshow": {
     "slide_type": "slide"
    }
   },
   "outputs": [],
   "source": [
    "from matplotlib import pyplot as plt # importa la libreria para hacer gráficos\n",
    "plt.plot(x,y)"
   ]
  },
  {
   "cell_type": "markdown",
   "metadata": {
    "slideshow": {
     "slide_type": "slide"
    }
   },
   "source": [
    "# 3. Métodos numéricos con numpy"
   ]
  },
  {
   "cell_type": "markdown",
   "metadata": {
    "slideshow": {
     "slide_type": "slide"
    }
   },
   "source": [
    "\n",
    "Resolución de sistemas de ecuaciones lineales\n",
    "--------------------------------------------------------\n",
    "\n",
    "El siguiente sistema de equaciones lineales\n",
    "\n",
    "\\begin{equation}\n",
    "10a + 2b = 20 \\\\ \n",
    "3a + 7b = 19\n",
    "\\end{equation}\n",
    "\n",
    "Se puede escribir como \n",
    "\n",
    "\\begin{equation}\n",
    "\\left[ \\begin{array}{ccc} 10 & 2 \\\\ 3 & 7 \\\\ \\end{array} \\right]\\left[ \\begin{array}{c} a \\\\ b \\\\ \\end{array} \\right] = \\left[ \\begin{array}{c} 20 \\\\ 19 \\\\ \\end{array} \\right]\n",
    "\\end{equation}\n",
    "\n",
    "O de manera más compacta:\n",
    "\n",
    "\\begin{equation} \n",
    "AX = B\n",
    "\\end{equation}"
   ]
  },
  {
   "cell_type": "markdown",
   "metadata": {
    "slideshow": {
     "slide_type": "slide"
    }
   },
   "source": [
    "En donde:\n",
    "\\begin{align}\n",
    "A & = \\left[ \\begin{array}{ccc} 10 & 2 \\\\ 3 & 7 \\\\ \\end{array} \\right] \\\\\n",
    "X &= \\left[ \\begin{array}{c} a \\\\ b \\\\ \\end{array} \\right] \\\\\n",
    "B &= \\left[ \\begin{array}{c} 20 \\\\ 19 \\\\ \\end{array} \\right] \\\\\n",
    "\\end{align}"
   ]
  },
  {
   "cell_type": "markdown",
   "metadata": {
    "slideshow": {
     "slide_type": "slide"
    }
   },
   "source": [
    "Usando algebra lineal podemos encontrar $X$:\n",
    "\n",
    "\\begin{align}\n",
    "AX &= B \\\\\n",
    "A^{-1} AX &= A^{-1}B \\\\\n",
    "X &= A^{-1}B\n",
    "\\end{align}\n",
    "\n",
    "Para resolver este sistema en Python utilizaremos la libreria [numpy](http://www.numpy.org/)"
   ]
  },
  {
   "cell_type": "code",
   "execution_count": null,
   "metadata": {
    "slideshow": {
     "slide_type": "slide"
    }
   },
   "outputs": [],
   "source": [
    "# Carga la libreria numpy y la renombra np (simplemente para ser más conciso)\n",
    "import numpy as np \n",
    "\n",
    "# Definiendo matrices\n",
    "A = np.matrix([[10,2], [3,7]])\n",
    "B = np.matrix([[20], [19]])\n",
    "\n",
    "# Calculando la inversa de A\n",
    "\n",
    "A_inverse = np.linalg.inv(A)\n",
    "\n",
    "# Resolviendo para X\n",
    "X = A_inverse * B # esta es la libreria de al\n",
    "print X\n"
   ]
  },
  {
   "cell_type": "markdown",
   "metadata": {
    "slideshow": {
     "slide_type": "slide"
    }
   },
   "source": [
    "Ejercicios\n",
    "-----------\n",
    "\n",
    "Resuelve los siguientes sistemas de ecuaciones, definiendo una función que tome como input $A$ y $B$, y entregue como resultado $X$.\n",
    "\n",
    "1. Sistema de 3x3\n",
    "\n",
    "    \\begin{align}\n",
    "    10a + 2b + 3c &= 20 \\\\ \n",
    "    3a + 7b + 5c &= 19 \\\\\n",
    "    3a + 7b + 7c &= 15\n",
    "    \\end{align}"
   ]
  },
  {
   "cell_type": "markdown",
   "metadata": {
    "slideshow": {
     "slide_type": "slide"
    }
   },
   "source": [
    "2. Sistema de 4x4\n",
    "\n",
    "    \\begin{align}\n",
    "    10a + 2b + 3c + 3d &= 20 \\\\ \n",
    "    3a + 7b + 5c + 1d &= 19 \\\\\n",
    "    3a + 7b + 7c + 10d &= 15 \\\\\n",
    "    4a + 9b + 8c + 9d &= 18 \n",
    "    \\end{align}\n",
    "\n",
    "3. Define una función que tome como argumentos A,y B y entregué como resultado X. Usa esta función para resolver los problemas 1 y 2."
   ]
  },
  {
   "cell_type": "code",
   "execution_count": null,
   "metadata": {},
   "outputs": [],
   "source": []
  }
 ],
 "metadata": {
  "celltoolbar": "Slideshow",
  "kernelspec": {
   "display_name": "Python 3",
   "language": "python",
   "name": "python3"
  },
  "language_info": {
   "codemirror_mode": {
    "name": "ipython",
    "version": 3
   },
   "file_extension": ".py",
   "mimetype": "text/x-python",
   "name": "python",
   "nbconvert_exporter": "python",
   "pygments_lexer": "ipython3",
   "version": "3.8.10"
  }
 },
 "nbformat": 4,
 "nbformat_minor": 2
}
